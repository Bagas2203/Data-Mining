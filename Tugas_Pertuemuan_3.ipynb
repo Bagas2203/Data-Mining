{
  "nbformat": 4,
  "nbformat_minor": 0,
  "metadata": {
    "colab": {
      "name": "Tugas Pertuemuan 3.ipynb",
      "provenance": []
    },
    "kernelspec": {
      "name": "python3",
      "display_name": "Python 3"
    },
    "language_info": {
      "name": "python"
    }
  },
  "cells": [
    {
      "cell_type": "code",
      "metadata": {
        "id": "OpNPR60vzODf"
      },
      "source": [
        "import numpy as np\n",
        "import matplotlib.pyplot as plt\n",
        "import pandas as pd"
      ],
      "execution_count": null,
      "outputs": []
    },
    {
      "cell_type": "code",
      "metadata": {
        "id": "qZL6Ql7fziCF"
      },
      "source": [
        "dataset = pd.read_csv('penjualan.csv')\n",
        "x = dataset.iloc[:, :-1].values\n",
        "y = dataset.iloc[:, -1].values"
      ],
      "execution_count": null,
      "outputs": []
    },
    {
      "cell_type": "code",
      "metadata": {
        "colab": {
          "base_uri": "https://localhost:8080/"
        },
        "id": "S2co19bcztHE",
        "outputId": "66895a93-2bc3-4fe6-9b6d-4433b1db4123"
      },
      "source": [
        "print(x)"
      ],
      "execution_count": null,
      "outputs": [
        {
          "output_type": "stream",
          "text": [
            "[['Espresso' 35.0 20000.0]\n",
            " ['Latte' 27.0 12000.0]\n",
            " ['Redvelvet' 39.0 24000.0]\n",
            " ['Chocolate' 34.0 26000.0]\n",
            " ['Americano' 34.0 nan]\n",
            " ['ColdBrew' 54.0 31000.0]\n",
            " ['Taro' nan 40000.0]\n",
            " ['Caramel' 23.0 50000.0]\n",
            " ['Matcha' 29.0 21000.0]\n",
            " ['Milk Brown Sugar' 38.0 28000.0]]\n"
          ],
          "name": "stdout"
        }
      ]
    },
    {
      "cell_type": "code",
      "metadata": {
        "colab": {
          "base_uri": "https://localhost:8080/"
        },
        "id": "EI4zxiw_zzKz",
        "outputId": "101f5538-8557-4eb4-e248-8480177dfbdd"
      },
      "source": [
        "print(y)"
      ],
      "execution_count": null,
      "outputs": [
        {
          "output_type": "stream",
          "text": [
            "['yes' 'no' 'no' 'yes' 'no' 'yes' 'yes' 'no' 'yes' 'no']\n"
          ],
          "name": "stdout"
        }
      ]
    },
    {
      "cell_type": "code",
      "metadata": {
        "id": "1fLBbnAf2K5L"
      },
      "source": [
        "from sklearn.impute import SimpleImputer\n",
        "imputer = SimpleImputer(missing_values=np.nan, strategy='mean')\n",
        "imputer.fit(x[:, 1:3])\n",
        "x[:, 1:3] = imputer.transform(x[:, 1:3])"
      ],
      "execution_count": null,
      "outputs": []
    },
    {
      "cell_type": "code",
      "metadata": {
        "colab": {
          "base_uri": "https://localhost:8080/"
        },
        "id": "KSsJwM653QTw",
        "outputId": "55f16dd1-60a1-4938-8b47-e4a36595b444"
      },
      "source": [
        "print(x)"
      ],
      "execution_count": null,
      "outputs": [
        {
          "output_type": "stream",
          "text": [
            "[['Espresso' 35.0 20000.0]\n",
            " ['Latte' 27.0 12000.0]\n",
            " ['Redvelvet' 39.0 24000.0]\n",
            " ['Chocolate' 34.0 26000.0]\n",
            " ['Americano' 34.0 28000.0]\n",
            " ['ColdBrew' 54.0 31000.0]\n",
            " ['Taro' 34.77777777777778 40000.0]\n",
            " ['Caramel' 23.0 50000.0]\n",
            " ['Matcha' 29.0 21000.0]\n",
            " ['Milk Brown Sugar' 38.0 28000.0]]\n"
          ],
          "name": "stdout"
        }
      ]
    },
    {
      "cell_type": "code",
      "metadata": {
        "id": "ZIbiCiF78Ma5"
      },
      "source": [
        "from sklearn.compose import ColumnTransformer\n",
        "from sklearn.preprocessing import OneHotEncoder\n",
        "ct = ColumnTransformer(transformers=[('encoder', OneHotEncoder(), [0])], remainder='passthrough')\n",
        "x = np.array(ct.fit_transform(x))"
      ],
      "execution_count": null,
      "outputs": []
    },
    {
      "cell_type": "code",
      "metadata": {
        "colab": {
          "base_uri": "https://localhost:8080/"
        },
        "id": "-Y5LFCY78cx_",
        "outputId": "5c46f6d2-c4a7-4ba8-8e56-66c366ade819"
      },
      "source": [
        "print(x)"
      ],
      "execution_count": null,
      "outputs": [
        {
          "output_type": "stream",
          "text": [
            "  (0, 4)\t1.0\n",
            "  (0, 10)\t35.0\n",
            "  (0, 11)\t20000.0\n",
            "  (1, 5)\t1.0\n",
            "  (1, 10)\t27.0\n",
            "  (1, 11)\t12000.0\n",
            "  (2, 8)\t1.0\n",
            "  (2, 10)\t39.0\n",
            "  (2, 11)\t24000.0\n",
            "  (3, 2)\t1.0\n",
            "  (3, 10)\t34.0\n",
            "  (3, 11)\t26000.0\n",
            "  (4, 0)\t1.0\n",
            "  (4, 10)\t34.0\n",
            "  (4, 11)\t28000.0\n",
            "  (5, 3)\t1.0\n",
            "  (5, 10)\t54.0\n",
            "  (5, 11)\t31000.0\n",
            "  (6, 9)\t1.0\n",
            "  (6, 10)\t34.77777777777778\n",
            "  (6, 11)\t40000.0\n",
            "  (7, 1)\t1.0\n",
            "  (7, 10)\t23.0\n",
            "  (7, 11)\t50000.0\n",
            "  (8, 6)\t1.0\n",
            "  (8, 10)\t29.0\n",
            "  (8, 11)\t21000.0\n",
            "  (9, 7)\t1.0\n",
            "  (9, 10)\t38.0\n",
            "  (9, 11)\t28000.0\n"
          ],
          "name": "stdout"
        }
      ]
    },
    {
      "cell_type": "code",
      "metadata": {
        "id": "0YXIYJN39hiv"
      },
      "source": [
        "from sklearn.preprocessing import LabelEncoder\n",
        "le = LabelEncoder()\n",
        "y = le.fit_transform(y)"
      ],
      "execution_count": null,
      "outputs": []
    },
    {
      "cell_type": "code",
      "metadata": {
        "colab": {
          "base_uri": "https://localhost:8080/"
        },
        "id": "-QArnXRH9oai",
        "outputId": "5842943d-a9ca-48eb-d203-fc8b63c96140"
      },
      "source": [
        "print(y)"
      ],
      "execution_count": null,
      "outputs": [
        {
          "output_type": "stream",
          "text": [
            "[1 0 0 1 0 1 1 0 1 0]\n"
          ],
          "name": "stdout"
        }
      ]
    },
    {
      "cell_type": "code",
      "metadata": {
        "id": "VlGuYePYILPQ"
      },
      "source": [
        "from sklearn.model_selection import train_test_split\n",
        "x_tra, x_tes, y_tra, y_tes = train_test_split(x,y, test_size=0.3, random_state=1)"
      ],
      "execution_count": null,
      "outputs": []
    },
    {
      "cell_type": "code",
      "metadata": {
        "id": "hlBU5jsBEfUq"
      },
      "source": [
        "print(x_train)"
      ],
      "execution_count": null,
      "outputs": []
    },
    {
      "cell_type": "code",
      "metadata": {
        "id": "BO_zDqVlEpxD"
      },
      "source": [
        "print(x_test)"
      ],
      "execution_count": null,
      "outputs": []
    },
    {
      "cell_type": "code",
      "metadata": {
        "id": "Nf9n-ghYEp4R"
      },
      "source": [
        "print(y_train)"
      ],
      "execution_count": null,
      "outputs": []
    },
    {
      "cell_type": "code",
      "metadata": {
        "id": "s4CYcWTnEp_h"
      },
      "source": [
        "print(y_test)"
      ],
      "execution_count": null,
      "outputs": []
    },
    {
      "cell_type": "code",
      "metadata": {
        "id": "iM62zDp_FSB_"
      },
      "source": [
        "from sklearn.preprocessing import StandardScaler\n",
        "sc = StandardScaler()\n",
        "x_train[:, 3:] = sc.fit_transform(x_train[:, 3:])\n",
        "x_test[:, 3:] = sc.transform(x_test[:, 3:])"
      ],
      "execution_count": null,
      "outputs": []
    }
  ]
}